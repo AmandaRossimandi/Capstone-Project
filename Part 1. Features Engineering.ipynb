{
 "cells": [
  {
   "cell_type": "markdown",
   "metadata": {},
   "source": [
    "# Part 1: Features Engineering"
   ]
  },
  {
   "cell_type": "markdown",
   "metadata": {},
   "source": [
    "Important part of stock market analysis is to use Indicators.\n",
    "Indicators are tools that help investor or trader to make a decision whether to buy stock or sell.\n",
    "Technical indicators constructed from stock data, such as stock `price` or `volume`.\n",
    "One of the most important indicators are: `Bollinger Bands`, `RSI`, `MACD`, `Moving Average`."
   ]
  },
  {
   "cell_type": "markdown",
   "metadata": {},
   "source": [
    "## Importing Libraries"
   ]
  },
  {
   "cell_type": "code",
   "execution_count": 12,
   "metadata": {},
   "outputs": [],
   "source": [
    "import pandas_datareader as pdr\n",
    "import os\n",
    "import numpy as np\n",
    "import pandas as pd\n",
    "import matplotlib.pyplot as plt\n",
    "import seaborn as sns\n",
    "import warnings\n",
    "from importlib import reload\n",
    "from features_engineering import ma7, ma21, rsi, macd, bollinger_bands, momentum, get_tesla_headlines\n",
    "\n",
    "from bs4 import BeautifulSoup\n",
    "import requests\n",
    "from nltk.sentiment.vader import SentimentIntensityAnalyzer\n",
    "warnings.filterwarnings('ignore')\n",
    "plt.rcParams['figure.dpi'] = 227 # native screen dpi for my computer"
   ]
  },
  {
   "cell_type": "markdown",
   "metadata": {},
   "source": [
    "# Original Data"
   ]
  },
  {
   "cell_type": "code",
   "execution_count": 17,
   "metadata": {},
   "outputs": [],
   "source": [
    "tesla_df = pdr.get_data_yahoo('tsla', '1980')\n",
    "tsla_df.to_csv('data/raw_stocks.csv')"
   ]
  },
  {
   "cell_type": "markdown",
   "metadata": {},
   "source": [
    "Let's take a look at the historical data of **Tesla**."
   ]
  },
  {
   "cell_type": "code",
   "execution_count": 18,
   "metadata": {},
   "outputs": [
    {
     "data": {
      "text/html": [
       "<div>\n",
       "<style scoped>\n",
       "    .dataframe tbody tr th:only-of-type {\n",
       "        vertical-align: middle;\n",
       "    }\n",
       "\n",
       "    .dataframe tbody tr th {\n",
       "        vertical-align: top;\n",
       "    }\n",
       "\n",
       "    .dataframe thead th {\n",
       "        text-align: right;\n",
       "    }\n",
       "</style>\n",
       "<table border=\"1\" class=\"dataframe\">\n",
       "  <thead>\n",
       "    <tr style=\"text-align: right;\">\n",
       "      <th></th>\n",
       "      <th>High</th>\n",
       "      <th>Low</th>\n",
       "      <th>Open</th>\n",
       "      <th>Close</th>\n",
       "      <th>Volume</th>\n",
       "      <th>Adj Close</th>\n",
       "    </tr>\n",
       "    <tr>\n",
       "      <th>Date</th>\n",
       "      <th></th>\n",
       "      <th></th>\n",
       "      <th></th>\n",
       "      <th></th>\n",
       "      <th></th>\n",
       "      <th></th>\n",
       "    </tr>\n",
       "  </thead>\n",
       "  <tbody>\n",
       "    <tr>\n",
       "      <td>2010-06-29</td>\n",
       "      <td>25.00</td>\n",
       "      <td>17.540001</td>\n",
       "      <td>19.000000</td>\n",
       "      <td>23.889999</td>\n",
       "      <td>18766300</td>\n",
       "      <td>23.889999</td>\n",
       "    </tr>\n",
       "    <tr>\n",
       "      <td>2010-06-30</td>\n",
       "      <td>30.42</td>\n",
       "      <td>23.299999</td>\n",
       "      <td>25.790001</td>\n",
       "      <td>23.830000</td>\n",
       "      <td>17187100</td>\n",
       "      <td>23.830000</td>\n",
       "    </tr>\n",
       "    <tr>\n",
       "      <td>2010-07-01</td>\n",
       "      <td>25.92</td>\n",
       "      <td>20.270000</td>\n",
       "      <td>25.000000</td>\n",
       "      <td>21.959999</td>\n",
       "      <td>8218800</td>\n",
       "      <td>21.959999</td>\n",
       "    </tr>\n",
       "    <tr>\n",
       "      <td>2010-07-02</td>\n",
       "      <td>23.10</td>\n",
       "      <td>18.709999</td>\n",
       "      <td>23.000000</td>\n",
       "      <td>19.200001</td>\n",
       "      <td>5139800</td>\n",
       "      <td>19.200001</td>\n",
       "    </tr>\n",
       "    <tr>\n",
       "      <td>2010-07-06</td>\n",
       "      <td>20.00</td>\n",
       "      <td>15.830000</td>\n",
       "      <td>20.000000</td>\n",
       "      <td>16.110001</td>\n",
       "      <td>6866900</td>\n",
       "      <td>16.110001</td>\n",
       "    </tr>\n",
       "  </tbody>\n",
       "</table>\n",
       "</div>"
      ],
      "text/plain": [
       "             High        Low       Open      Close    Volume  Adj Close\n",
       "Date                                                                   \n",
       "2010-06-29  25.00  17.540001  19.000000  23.889999  18766300  23.889999\n",
       "2010-06-30  30.42  23.299999  25.790001  23.830000  17187100  23.830000\n",
       "2010-07-01  25.92  20.270000  25.000000  21.959999   8218800  21.959999\n",
       "2010-07-02  23.10  18.709999  23.000000  19.200001   5139800  19.200001\n",
       "2010-07-06  20.00  15.830000  20.000000  16.110001   6866900  16.110001"
      ]
     },
     "execution_count": 18,
     "metadata": {},
     "output_type": "execute_result"
    }
   ],
   "source": [
    "tesla_df.head()"
   ]
  },
  {
   "cell_type": "code",
   "execution_count": 19,
   "metadata": {
    "scrolled": true
   },
   "outputs": [
    {
     "data": {
      "text/html": [
       "<div>\n",
       "<style scoped>\n",
       "    .dataframe tbody tr th:only-of-type {\n",
       "        vertical-align: middle;\n",
       "    }\n",
       "\n",
       "    .dataframe tbody tr th {\n",
       "        vertical-align: top;\n",
       "    }\n",
       "\n",
       "    .dataframe thead th {\n",
       "        text-align: right;\n",
       "    }\n",
       "</style>\n",
       "<table border=\"1\" class=\"dataframe\">\n",
       "  <thead>\n",
       "    <tr style=\"text-align: right;\">\n",
       "      <th></th>\n",
       "      <th>High</th>\n",
       "      <th>Low</th>\n",
       "      <th>Open</th>\n",
       "      <th>Close</th>\n",
       "      <th>Volume</th>\n",
       "      <th>Adj Close</th>\n",
       "    </tr>\n",
       "  </thead>\n",
       "  <tbody>\n",
       "    <tr>\n",
       "      <td>count</td>\n",
       "      <td>2351.000000</td>\n",
       "      <td>2351.000000</td>\n",
       "      <td>2351.000000</td>\n",
       "      <td>2351.000000</td>\n",
       "      <td>2.351000e+03</td>\n",
       "      <td>2351.000000</td>\n",
       "    </tr>\n",
       "    <tr>\n",
       "      <td>mean</td>\n",
       "      <td>183.098252</td>\n",
       "      <td>176.670595</td>\n",
       "      <td>179.967074</td>\n",
       "      <td>179.983777</td>\n",
       "      <td>5.372103e+06</td>\n",
       "      <td>179.983777</td>\n",
       "    </tr>\n",
       "    <tr>\n",
       "      <td>std</td>\n",
       "      <td>114.724786</td>\n",
       "      <td>111.103138</td>\n",
       "      <td>112.968696</td>\n",
       "      <td>112.991827</td>\n",
       "      <td>4.713082e+06</td>\n",
       "      <td>112.991827</td>\n",
       "    </tr>\n",
       "    <tr>\n",
       "      <td>min</td>\n",
       "      <td>16.629999</td>\n",
       "      <td>14.980000</td>\n",
       "      <td>16.139999</td>\n",
       "      <td>15.800000</td>\n",
       "      <td>1.185000e+05</td>\n",
       "      <td>15.800000</td>\n",
       "    </tr>\n",
       "    <tr>\n",
       "      <td>25%</td>\n",
       "      <td>34.500000</td>\n",
       "      <td>33.385000</td>\n",
       "      <td>33.949999</td>\n",
       "      <td>33.969999</td>\n",
       "      <td>1.799750e+06</td>\n",
       "      <td>33.969999</td>\n",
       "    </tr>\n",
       "    <tr>\n",
       "      <td>50%</td>\n",
       "      <td>214.020004</td>\n",
       "      <td>206.699997</td>\n",
       "      <td>210.250000</td>\n",
       "      <td>209.970001</td>\n",
       "      <td>4.477300e+06</td>\n",
       "      <td>209.970001</td>\n",
       "    </tr>\n",
       "    <tr>\n",
       "      <td>75%</td>\n",
       "      <td>264.414993</td>\n",
       "      <td>255.709999</td>\n",
       "      <td>260.639999</td>\n",
       "      <td>260.669998</td>\n",
       "      <td>7.168850e+06</td>\n",
       "      <td>260.669998</td>\n",
       "    </tr>\n",
       "    <tr>\n",
       "      <td>max</td>\n",
       "      <td>389.609985</td>\n",
       "      <td>379.350006</td>\n",
       "      <td>386.690002</td>\n",
       "      <td>385.000000</td>\n",
       "      <td>3.716390e+07</td>\n",
       "      <td>385.000000</td>\n",
       "    </tr>\n",
       "  </tbody>\n",
       "</table>\n",
       "</div>"
      ],
      "text/plain": [
       "              High          Low         Open        Close        Volume  \\\n",
       "count  2351.000000  2351.000000  2351.000000  2351.000000  2.351000e+03   \n",
       "mean    183.098252   176.670595   179.967074   179.983777  5.372103e+06   \n",
       "std     114.724786   111.103138   112.968696   112.991827  4.713082e+06   \n",
       "min      16.629999    14.980000    16.139999    15.800000  1.185000e+05   \n",
       "25%      34.500000    33.385000    33.949999    33.969999  1.799750e+06   \n",
       "50%     214.020004   206.699997   210.250000   209.970001  4.477300e+06   \n",
       "75%     264.414993   255.709999   260.639999   260.669998  7.168850e+06   \n",
       "max     389.609985   379.350006   386.690002   385.000000  3.716390e+07   \n",
       "\n",
       "         Adj Close  \n",
       "count  2351.000000  \n",
       "mean    179.983777  \n",
       "std     112.991827  \n",
       "min      15.800000  \n",
       "25%      33.969999  \n",
       "50%     209.970001  \n",
       "75%     260.669998  \n",
       "max     385.000000  "
      ]
     },
     "execution_count": 19,
     "metadata": {},
     "output_type": "execute_result"
    }
   ],
   "source": [
    "tesla_df.describe()"
   ]
  },
  {
   "cell_type": "markdown",
   "metadata": {},
   "source": [
    "### Checking for missing data"
   ]
  },
  {
   "cell_type": "code",
   "execution_count": 22,
   "metadata": {},
   "outputs": [
    {
     "name": "stdout",
     "output_type": "stream",
     "text": [
      "No missing data\n"
     ]
    }
   ],
   "source": [
    "print('No missing data') if sum(tesla_df.isna().sum()) == 0 else tesla_df.isna().sum()"
   ]
  },
  {
   "cell_type": "markdown",
   "metadata": {},
   "source": [
    "# Generating Features"
   ]
  },
  {
   "cell_type": "markdown",
   "metadata": {},
   "source": [
    "Additionally to our original data we will generate following features:\n",
    " - Return\n",
    " - Change\n",
    " - Volatility\n",
    " - MA21 and MA7 (Moving Average)\n",
    " - Momentum\n",
    " - RSI\n",
    " - MACD\n",
    " - Bollinger Bands"
   ]
  },
  {
   "cell_type": "code",
   "execution_count": 6,
   "metadata": {},
   "outputs": [],
   "source": [
    "#del stocks\n",
    "files = os.listdir('data/raw_stocks')\n",
    "stocks = {}\n",
    "for file in files:\n",
    "    name = file.lower().split('.')[0]\n",
    "    stocks[name] = pd.read_csv('data/raw_stocks/'+file)    \n",
    "    \n",
    "    # Return Feature\n",
    "    stocks[name]['Return'] = round(stocks[name]['Close'] / stocks[name]['Open'] - 1, 3)\n",
    "    # Change Feature\n",
    "    # Change of the price from previous day, absolute value\n",
    "    stocks[name]['Change'] = (stocks[name].Close - stocks[name].Close.shift(1)).fillna(0)\n",
    "    # Date Feature\n",
    "    stocks[name]['Date'] = pd.to_datetime(stocks[name]['Date'])\n",
    "    stocks[name].set_index('Date', inplace=True)\n",
    "    # Volatility Feature\n",
    "    stocks[name]['Volatility'] = stocks[name].Close.ewm(21).std()\n",
    "    # Moving Average, 7 days\n",
    "    stocks[name]['MA7'] = ma7(stocks[name])\n",
    "    # Moving Average, 21 days\n",
    "    stocks[name]['MA21'] = ma21(stocks[name])\n",
    "    # Momentum\n",
    "    stocks[name]['Momentum'] = momentum(stocks[name].Close, 3)\n",
    "    # RSI (Relative Strength Index)\n",
    "    stocks[name]['RSI'] = rsi(stocks[name])\n",
    "    # MACD - (Moving Average Convergence/Divergence)\n",
    "    stocks[name]['MACD'], stocks[name]['Signal'] = macd(stocks[name])\n",
    "    # Upper Band and Lower Band for Bollinger Bands\n",
    "    stocks[name]['Upper_band'], stocks[name]['Lower_band'] = bollinger_bands(stocks[name])\n",
    "    stocks[name].dropna(inplace=True)\n",
    "    # Saving\n",
    "    stocks[name].to_csv('data/stocks/'+name+'.csv')"
   ]
  },
  {
   "cell_type": "code",
   "execution_count": 7,
   "metadata": {},
   "outputs": [
    {
     "data": {
      "text/html": [
       "<div>\n",
       "<style scoped>\n",
       "    .dataframe tbody tr th:only-of-type {\n",
       "        vertical-align: middle;\n",
       "    }\n",
       "\n",
       "    .dataframe tbody tr th {\n",
       "        vertical-align: top;\n",
       "    }\n",
       "\n",
       "    .dataframe thead th {\n",
       "        text-align: right;\n",
       "    }\n",
       "</style>\n",
       "<table border=\"1\" class=\"dataframe\">\n",
       "  <thead>\n",
       "    <tr style=\"text-align: right;\">\n",
       "      <th></th>\n",
       "      <th>Open</th>\n",
       "      <th>High</th>\n",
       "      <th>Low</th>\n",
       "      <th>Close</th>\n",
       "      <th>Adj Close</th>\n",
       "      <th>Volume</th>\n",
       "      <th>Return</th>\n",
       "      <th>Change</th>\n",
       "      <th>Volatility</th>\n",
       "      <th>MA7</th>\n",
       "      <th>MA21</th>\n",
       "      <th>Momentum</th>\n",
       "      <th>RSI</th>\n",
       "      <th>MACD</th>\n",
       "      <th>Signal</th>\n",
       "      <th>Upper_band</th>\n",
       "      <th>Lower_band</th>\n",
       "    </tr>\n",
       "    <tr>\n",
       "      <th>Date</th>\n",
       "      <th></th>\n",
       "      <th></th>\n",
       "      <th></th>\n",
       "      <th></th>\n",
       "      <th></th>\n",
       "      <th></th>\n",
       "      <th></th>\n",
       "      <th></th>\n",
       "      <th></th>\n",
       "      <th></th>\n",
       "      <th></th>\n",
       "      <th></th>\n",
       "      <th></th>\n",
       "      <th></th>\n",
       "      <th></th>\n",
       "      <th></th>\n",
       "      <th></th>\n",
       "    </tr>\n",
       "  </thead>\n",
       "  <tbody>\n",
       "    <tr>\n",
       "      <td>2010-07-28</td>\n",
       "      <td>20.549999</td>\n",
       "      <td>20.900000</td>\n",
       "      <td>20.510000</td>\n",
       "      <td>20.719999</td>\n",
       "      <td>20.719999</td>\n",
       "      <td>467200</td>\n",
       "      <td>0.008</td>\n",
       "      <td>0.170000</td>\n",
       "      <td>1.979836</td>\n",
       "      <td>20.718571</td>\n",
       "      <td>19.911904</td>\n",
       "      <td>18.290001</td>\n",
       "      <td>41.752948</td>\n",
       "      <td>-0.350607</td>\n",
       "      <td>-0.658177</td>\n",
       "      <td>24.403824</td>\n",
       "      <td>15.419985</td>\n",
       "    </tr>\n",
       "    <tr>\n",
       "      <td>2010-07-29</td>\n",
       "      <td>20.770000</td>\n",
       "      <td>20.879999</td>\n",
       "      <td>20.000000</td>\n",
       "      <td>20.350000</td>\n",
       "      <td>20.350000</td>\n",
       "      <td>616000</td>\n",
       "      <td>-0.020</td>\n",
       "      <td>-0.369999</td>\n",
       "      <td>1.908327</td>\n",
       "      <td>20.725714</td>\n",
       "      <td>19.743333</td>\n",
       "      <td>17.950001</td>\n",
       "      <td>40.449222</td>\n",
       "      <td>-0.337599</td>\n",
       "      <td>-0.594062</td>\n",
       "      <td>23.858103</td>\n",
       "      <td>15.628563</td>\n",
       "    </tr>\n",
       "    <tr>\n",
       "      <td>2010-07-30</td>\n",
       "      <td>20.200001</td>\n",
       "      <td>20.440001</td>\n",
       "      <td>19.549999</td>\n",
       "      <td>19.940001</td>\n",
       "      <td>19.940001</td>\n",
       "      <td>426900</td>\n",
       "      <td>-0.013</td>\n",
       "      <td>-0.409999</td>\n",
       "      <td>1.839567</td>\n",
       "      <td>20.685714</td>\n",
       "      <td>19.558095</td>\n",
       "      <td>17.549999</td>\n",
       "      <td>38.996148</td>\n",
       "      <td>-0.356267</td>\n",
       "      <td>-0.546503</td>\n",
       "      <td>23.226171</td>\n",
       "      <td>15.890019</td>\n",
       "    </tr>\n",
       "    <tr>\n",
       "      <td>2010-08-02</td>\n",
       "      <td>20.500000</td>\n",
       "      <td>20.969999</td>\n",
       "      <td>20.330000</td>\n",
       "      <td>20.920000</td>\n",
       "      <td>20.920000</td>\n",
       "      <td>718100</td>\n",
       "      <td>0.020</td>\n",
       "      <td>0.979999</td>\n",
       "      <td>1.789358</td>\n",
       "      <td>20.674286</td>\n",
       "      <td>19.508571</td>\n",
       "      <td>17.719999</td>\n",
       "      <td>44.159747</td>\n",
       "      <td>-0.288656</td>\n",
       "      <td>-0.494933</td>\n",
       "      <td>23.066887</td>\n",
       "      <td>15.950255</td>\n",
       "    </tr>\n",
       "    <tr>\n",
       "      <td>2010-08-03</td>\n",
       "      <td>21.000000</td>\n",
       "      <td>21.950001</td>\n",
       "      <td>20.820000</td>\n",
       "      <td>21.950001</td>\n",
       "      <td>21.950001</td>\n",
       "      <td>1230500</td>\n",
       "      <td>0.045</td>\n",
       "      <td>1.030001</td>\n",
       "      <td>1.791139</td>\n",
       "      <td>20.768572</td>\n",
       "      <td>19.639524</td>\n",
       "      <td>17.350000</td>\n",
       "      <td>49.041837</td>\n",
       "      <td>-0.150230</td>\n",
       "      <td>-0.425993</td>\n",
       "      <td>23.349330</td>\n",
       "      <td>15.929718</td>\n",
       "    </tr>\n",
       "  </tbody>\n",
       "</table>\n",
       "</div>"
      ],
      "text/plain": [
       "                 Open       High        Low      Close  Adj Close   Volume  \\\n",
       "Date                                                                         \n",
       "2010-07-28  20.549999  20.900000  20.510000  20.719999  20.719999   467200   \n",
       "2010-07-29  20.770000  20.879999  20.000000  20.350000  20.350000   616000   \n",
       "2010-07-30  20.200001  20.440001  19.549999  19.940001  19.940001   426900   \n",
       "2010-08-02  20.500000  20.969999  20.330000  20.920000  20.920000   718100   \n",
       "2010-08-03  21.000000  21.950001  20.820000  21.950001  21.950001  1230500   \n",
       "\n",
       "            Return    Change  Volatility        MA7       MA21   Momentum  \\\n",
       "Date                                                                        \n",
       "2010-07-28   0.008  0.170000    1.979836  20.718571  19.911904  18.290001   \n",
       "2010-07-29  -0.020 -0.369999    1.908327  20.725714  19.743333  17.950001   \n",
       "2010-07-30  -0.013 -0.409999    1.839567  20.685714  19.558095  17.549999   \n",
       "2010-08-02   0.020  0.979999    1.789358  20.674286  19.508571  17.719999   \n",
       "2010-08-03   0.045  1.030001    1.791139  20.768572  19.639524  17.350000   \n",
       "\n",
       "                  RSI      MACD    Signal  Upper_band  Lower_band  \n",
       "Date                                                               \n",
       "2010-07-28  41.752948 -0.350607 -0.658177   24.403824   15.419985  \n",
       "2010-07-29  40.449222 -0.337599 -0.594062   23.858103   15.628563  \n",
       "2010-07-30  38.996148 -0.356267 -0.546503   23.226171   15.890019  \n",
       "2010-08-02  44.159747 -0.288656 -0.494933   23.066887   15.950255  \n",
       "2010-08-03  49.041837 -0.150230 -0.425993   23.349330   15.929718  "
      ]
     },
     "execution_count": 7,
     "metadata": {},
     "output_type": "execute_result"
    }
   ],
   "source": [
    "stocks['tsla'].head()"
   ]
  },
  {
   "cell_type": "markdown",
   "metadata": {},
   "source": [
    "Mostly we will rely on historical data and technical indicators. Additionally, we will use news headlines of Tesla to check hypothesis if news affect price movement."
   ]
  },
  {
   "cell_type": "markdown",
   "metadata": {},
   "source": [
    "## Tesla News Headlines"
   ]
  },
  {
   "cell_type": "markdown",
   "metadata": {},
   "source": [
    "For news source we will use <a href=\"nasdaq.com\">NASDAQ</a> website.\n",
    "At the moment of parsing there were 120 pages of news from `2019-01-10` till `2019-09-05`"
   ]
  },
  {
   "cell_type": "code",
   "execution_count": null,
   "metadata": {},
   "outputs": [],
   "source": [
    "headlines_list, dates_list = [], []\n",
    "for i in range(1, 120):    \n",
    "    headlines, dates = get_tesla_headlines(\"https://www.nasdaq.com/symbol/tsla/news-headlines?page={}\".format(i))\n",
    "    headlines_list.append(headlines)\n",
    "    dates_list.append(dates)\n",
    "    time.sleep(1)"
   ]
  },
  {
   "cell_type": "code",
   "execution_count": null,
   "metadata": {},
   "outputs": [],
   "source": [
    "tesla_headlines = pd.DataFrame({'Title': [i for sub in headlines_list for i in sub], 'Date': [i for sub in dates_list for i in sub[:10]]})"
   ]
  },
  {
   "cell_type": "markdown",
   "metadata": {},
   "source": [
    "## Unsupervised sentiment prediction"
   ]
  },
  {
   "cell_type": "markdown",
   "metadata": {},
   "source": [
    "Once news are parsed, we will use unsupervised learning to assign sentiment to each news."
   ]
  },
  {
   "cell_type": "code",
   "execution_count": 15,
   "metadata": {},
   "outputs": [],
   "source": [
    "sid = SentimentIntensityAnalyzer()"
   ]
  },
  {
   "cell_type": "code",
   "execution_count": 57,
   "metadata": {},
   "outputs": [],
   "source": [
    "tesla_headlines['Sentiment'] = tesla_headlines['Title'].map(lambda x: sid.polarity_scores(x)['compound'])\n",
    "tesla_headlines.Date = pd.to_datetime(tesla_headlines.Date)\n",
    "tesla_headlines.to_csv('data/tesla_headlines.csv')"
   ]
  },
  {
   "cell_type": "code",
   "execution_count": 24,
   "metadata": {},
   "outputs": [
    {
     "data": {
      "text/html": [
       "<div>\n",
       "<style scoped>\n",
       "    .dataframe tbody tr th:only-of-type {\n",
       "        vertical-align: middle;\n",
       "    }\n",
       "\n",
       "    .dataframe tbody tr th {\n",
       "        vertical-align: top;\n",
       "    }\n",
       "\n",
       "    .dataframe thead th {\n",
       "        text-align: right;\n",
       "    }\n",
       "</style>\n",
       "<table border=\"1\" class=\"dataframe\">\n",
       "  <thead>\n",
       "    <tr style=\"text-align: right;\">\n",
       "      <th></th>\n",
       "      <th>Title</th>\n",
       "      <th>Date</th>\n",
       "      <th>Sentiment</th>\n",
       "    </tr>\n",
       "  </thead>\n",
       "  <tbody>\n",
       "    <tr>\n",
       "      <td>0</td>\n",
       "      <td>Tesla's use of individual driver data for insu...</td>\n",
       "      <td>2019-09-05</td>\n",
       "      <td>0.0000</td>\n",
       "    </tr>\n",
       "    <tr>\n",
       "      <td>1</td>\n",
       "      <td>U.S. safety agency cites Tesla Autopilot desig...</td>\n",
       "      <td>2019-09-04</td>\n",
       "      <td>0.0258</td>\n",
       "    </tr>\n",
       "    <tr>\n",
       "      <td>2</td>\n",
       "      <td>U.S. safety agency cites driver error, Tesla A...</td>\n",
       "      <td>2019-09-04</td>\n",
       "      <td>-0.3818</td>\n",
       "    </tr>\n",
       "    <tr>\n",
       "      <td>3</td>\n",
       "      <td>U.S. safety regulator cites driver error, Tesl...</td>\n",
       "      <td>2019-09-04</td>\n",
       "      <td>-0.3818</td>\n",
       "    </tr>\n",
       "    <tr>\n",
       "      <td>4</td>\n",
       "      <td>U.S. NTSB cites driver error, Tesla Autopilot ...</td>\n",
       "      <td>2019-09-04</td>\n",
       "      <td>-0.6597</td>\n",
       "    </tr>\n",
       "  </tbody>\n",
       "</table>\n",
       "</div>"
      ],
      "text/plain": [
       "                                               Title        Date  Sentiment\n",
       "0  Tesla's use of individual driver data for insu...  2019-09-05     0.0000\n",
       "1  U.S. safety agency cites Tesla Autopilot desig...  2019-09-04     0.0258\n",
       "2  U.S. safety agency cites driver error, Tesla A...  2019-09-04    -0.3818\n",
       "3  U.S. safety regulator cites driver error, Tesl...  2019-09-04    -0.3818\n",
       "4  U.S. NTSB cites driver error, Tesla Autopilot ...  2019-09-04    -0.6597"
      ]
     },
     "execution_count": 24,
     "metadata": {},
     "output_type": "execute_result"
    }
   ],
   "source": [
    "tesla_headlines.head()"
   ]
  }
 ],
 "metadata": {
  "kernelspec": {
   "display_name": "Python 3",
   "language": "python",
   "name": "python3"
  },
  "language_info": {
   "codemirror_mode": {
    "name": "ipython",
    "version": 3
   },
   "file_extension": ".py",
   "mimetype": "text/x-python",
   "name": "python",
   "nbconvert_exporter": "python",
   "pygments_lexer": "ipython3",
   "version": "3.7.4"
  }
 },
 "nbformat": 4,
 "nbformat_minor": 2
}
