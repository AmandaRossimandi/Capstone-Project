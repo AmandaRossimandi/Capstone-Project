{
 "cells": [
  {
   "cell_type": "markdown",
   "metadata": {},
   "source": [
    "# Machine Learning for Day Trading"
   ]
  },
  {
   "cell_type": "markdown",
   "metadata": {},
   "source": [
    "## Capstone Project"
   ]
  },
  {
   "cell_type": "markdown",
   "metadata": {},
   "source": [
    "Please fill out:\n",
    "* Student name: Arseniy Tyurin\n",
    "* Student pace: self paced\n",
    "* Scheduled project review date/time: \n",
    "* Instructor name: Eli Thomas\n",
    "* Blog post URL: <a href=\"https://medium.com/@arseniytyurin/\" target=\"_blank\">Machine Learning for Day Trading</a>\n"
   ]
  },
  {
   "cell_type": "markdown",
   "metadata": {},
   "source": [
    "# Introduction"
   ]
  },
  {
   "cell_type": "markdown",
   "metadata": {},
   "source": [
    "Day trading is speculation in securities, specifically buying and selling financial instruments within the same trading day, such that all positions are closed before the market closes for the trading day. Traders who trade in this capacity with the motive of profit are therefore speculators."
   ]
  },
  {
   "cell_type": "markdown",
   "metadata": {},
   "source": [
    "The project is broken down into 3 sections.\n",
    "All the steps described here\n",
    "For detailed information please refer to separate file."
   ]
  },
  {
   "cell_type": "markdown",
   "metadata": {},
   "source": [
    "### Value of the company:\n",
    "- Intrinsic value (estimated by future dividends)\n",
    "- Book value (assets of the company owns)\n",
    "- Market value (stock on the market)"
   ]
  },
  {
   "cell_type": "markdown",
   "metadata": {},
   "source": [
    "### Technical Analysis\n",
    "\n",
    "#### 1. When is technical analysis effective:\n",
    "- Individual indicators weak\n",
    "- Combinations stronger\n",
    "- Look for contrasts (stock vs market)\n",
    "- Shorter time periods\n",
    "\n",
    "#### 2. When does technical analysis have value?\n",
    "- Short periods of time (from milliseconds to days)\n",
    "\n",
    "#### 3. How to test the model?\n",
    "- Backtesting"
   ]
  },
  {
   "cell_type": "markdown",
   "metadata": {},
   "source": [
    "### Efficient Markets Hypothesis\n",
    "\n",
    "The efficient-market hypothesis (EMH) is a hypothesis in financial economics that states that asset prices reflect all available information. A direct implication is that it is impossible to \"beat the market\" consistently on a risk-adjusted basis since market prices should only react to new information.\n",
    "\n",
    "    - Large number of investors\n",
    "    - New information arrives randomly\n",
    "    - Prices adjust quickly\n",
    "    - Prices reflect all available information"
   ]
  },
  {
   "cell_type": "markdown",
   "metadata": {},
   "source": [
    "### Where does information come from\n",
    "    - Price/volume\n",
    "    - Fundamental\n",
    "    - Exogenous (information about the world that affects stock price)\n",
    "    - Company insiders"
   ]
  },
  {
   "cell_type": "markdown",
   "metadata": {},
   "source": [
    "### Types of analysis:\n",
    "    - fundamental (price is below its value)\n",
    "    - technical:\n",
    "        - historical data and volume only\n",
    "        - compute statistics called indicators (momentum, simple moving average, bollinger bands)\n",
    "        - indicators are heuristics"
   ]
  },
  {
   "cell_type": "markdown",
   "metadata": {},
   "source": [
    "## Project Sections"
   ]
  },
  {
   "cell_type": "markdown",
   "metadata": {},
   "source": [
    "Project is divided in 3 main sections:\n",
    "1. Features engineering\n",
    "2. Exploratory Analysis\n",
    "3. Machine Learning"
   ]
  },
  {
   "cell_type": "markdown",
   "metadata": {},
   "source": [
    "# 1. Features Engineering"
   ]
  },
  {
   "cell_type": "markdown",
   "metadata": {},
   "source": [
    "Data was downloaded from <a href=\"https://finance.yahoo.com\">Yahoo Finance</a> via `pandas datareader`"
   ]
  },
  {
   "cell_type": "markdown",
   "metadata": {},
   "source": [
    "<img src=\"images/tsla.png\" alt=\"TSLA\" style=\"width:55%\" />\n",
    "<p style=\"text-align:center;font:italic 13px arial;color:#666;\">Tesla Historical Data</p>"
   ]
  },
  {
   "cell_type": "markdown",
   "metadata": {},
   "source": [
    "Data provides daily information about stock price and volume."
   ]
  },
  {
   "cell_type": "markdown",
   "metadata": {},
   "source": [
    "### Technical Indicators\n",
    "- **Moving Average** (lagging) analyze whether a market is moving up, down, or sideways over time.\n",
    "- **Bollinger Bands** (lagging) measure how far a price swing will stretch before a counter impulse triggers a retracement.\n",
    "- **Relative strength indicators** (leading) measure oscillations in buying and selling pressure.\n",
    "- **MACD** (leading) evaluate the speed of price change over time.\n",
    "- **Volume** indicators (leading or lagging) tally up trades and quantify whether bulls or bear are in control."
   ]
  },
  {
   "cell_type": "markdown",
   "metadata": {},
   "source": [
    "<img src=\"images/tsla_ti.png\" alt=\"TSLA\" />\n",
    "<p style=\"text-align:center;font:italic 13px arial;color:#666;\">Tesla Historical Data With Technical Indicators</p>"
   ]
  },
  {
   "cell_type": "markdown",
   "metadata": {},
   "source": [
    "Once our features are engineered we ca jump into exploratory analysis"
   ]
  },
  {
   "cell_type": "markdown",
   "metadata": {},
   "source": [
    "# 2. Exploratory Analysis"
   ]
  },
  {
   "cell_type": "markdown",
   "metadata": {},
   "source": [
    "Lets take a look at the TESLA historical data"
   ]
  },
  {
   "cell_type": "markdown",
   "metadata": {},
   "source": [
    "<img src=\"images/bb.png\" alt=\"Bollinger Bands\" />\n",
    "<img src=\"images/macd.png\" alt=\"MACD\" />\n",
    "<img src=\"images/rsi.png\" alt=\"RSI\" />"
   ]
  },
  {
   "cell_type": "markdown",
   "metadata": {},
   "source": [
    "<img src=\"images/stocks_return.png\" alt=\"Stocks Return\" />"
   ]
  },
  {
   "cell_type": "markdown",
   "metadata": {},
   "source": [
    "# 3. Machine Learning"
   ]
  },
  {
   "cell_type": "markdown",
   "metadata": {},
   "source": []
  },
  {
   "cell_type": "markdown",
   "metadata": {},
   "source": [
    "## 3.1 ARIMA"
   ]
  },
  {
   "cell_type": "markdown",
   "metadata": {},
   "source": [
    "<img src=\"images/arima.png\" alt=\"ARIMA Predictions\" />"
   ]
  },
  {
   "cell_type": "markdown",
   "metadata": {},
   "source": [
    "<img src=\"images/arima_dist.png\" alt=\"ARIMA Predictions\" />"
   ]
  },
  {
   "cell_type": "markdown",
   "metadata": {},
   "source": [
    "## Sentiment"
   ]
  },
  {
   "cell_type": "markdown",
   "metadata": {},
   "source": [
    "<img src=\"images/news_sentiment.png\" alt=\"Tesla News Sentiment\" />"
   ]
  },
  {
   "cell_type": "markdown",
   "metadata": {},
   "source": [
    "## 3.2 XGBOOST"
   ]
  },
  {
   "cell_type": "markdown",
   "metadata": {},
   "source": [
    "<img src=\"images/fe.png\" alt=\"Features Importance\" />"
   ]
  },
  {
   "cell_type": "markdown",
   "metadata": {},
   "source": [
    "## 3.3 LSTM"
   ]
  },
  {
   "cell_type": "markdown",
   "metadata": {},
   "source": [
    "Show NN tree here"
   ]
  },
  {
   "cell_type": "markdown",
   "metadata": {},
   "source": [
    "## 3.4 Convolutional Neural Network"
   ]
  },
  {
   "cell_type": "markdown",
   "metadata": {},
   "source": [
    "<img src=\"images/conv_summary.png\" style=\"width:55%;\" alt=\"\" />"
   ]
  },
  {
   "cell_type": "markdown",
   "metadata": {},
   "source": [
    "## 3.5 Bayesian Optimization"
   ]
  },
  {
   "cell_type": "markdown",
   "metadata": {},
   "source": [
    "<img src=\"images/bo.png\" style=\"width:75%;\" alt=\"Bayesian Optimization\" />"
   ]
  },
  {
   "cell_type": "markdown",
   "metadata": {},
   "source": [
    "## 3.6 Pattern Recognition"
   ]
  },
  {
   "cell_type": "markdown",
   "metadata": {},
   "source": [
    "<img src=\"images/pattern_recognition.png\" alt=\"\" />\n",
    "<img src=\"images/found_patterns.png\" alt=\"\" />"
   ]
  },
  {
   "cell_type": "markdown",
   "metadata": {},
   "source": [
    "Accuracy 50%"
   ]
  },
  {
   "cell_type": "markdown",
   "metadata": {},
   "source": [
    "## 3.7 Q-Learning"
   ]
  },
  {
   "cell_type": "markdown",
   "metadata": {},
   "source": [
    "#### Bollinger Bands"
   ]
  },
  {
   "cell_type": "markdown",
   "metadata": {},
   "source": [
    "<img src=\"images/tsla_bb_trading.png\" style=\"width:90%;\" alt=\"Tesla Trading History\" />"
   ]
  },
  {
   "cell_type": "markdown",
   "metadata": {},
   "source": [
    "#### MACD"
   ]
  },
  {
   "cell_type": "markdown",
   "metadata": {},
   "source": [
    "<img src=\"images/tsla_macd_trading.png\" style=\"width:90%;\" alt=\"Tesla Trading History\" />\n",
    "<img src=\"images/tsla_macd.png\" style=\"width:90%;\" alt=\"Tesla Trading History\" />"
   ]
  },
  {
   "cell_type": "markdown",
   "metadata": {},
   "source": [
    "# Conclusion"
   ]
  },
  {
   "cell_type": "markdown",
   "metadata": {},
   "source": [
    "ARIMA, NN, Naive Bayes = doesn't work\n",
    "\n",
    "Q-learning = works"
   ]
  },
  {
   "cell_type": "markdown",
   "metadata": {},
   "source": [
    "# Next Steps"
   ]
  },
  {
   "cell_type": "markdown",
   "metadata": {},
   "source": []
  },
  {
   "cell_type": "markdown",
   "metadata": {},
   "source": [
    "# Referencs"
   ]
  },
  {
   "cell_type": "markdown",
   "metadata": {},
   "source": [
    "- [1] <a href=\"https://www.investopedia.com/articles/basics/04/100804.asp\" target=\"_blank\">Forces That Move Stock Prices</a>\n",
    "- [2] <a href=\"https://machinelearningmastery.com/how-to-develop-lstm-models-for-time-series-forecasting/\" target=\"_blank\">How to Develop LSTM Models for Time Series Forecasting</a>\n",
    "- [3] <a href=\"https://www.udacity.com/course/machine-learning-for-trading--ud501\">Udacity: Machine Learning for Trading (Free Course)</a>\n",
    "- [4] <a href=\"https://www.investopedia.com/articles/technical/081501.asp\" target=\"_blank\">Momentum Indicates Stock Price Strength</a>\n",
    "- [5] <a href=\"https://people.duke.edu/~rnau/arimrule.htm\" target=\"_blank\">Rules for identifying ARIMA models</a>\n",
    "- [6] <a href=\"https://www.dlology.com/blog/how-to-do-hyperparameter-search-with-baysian-optimization-for-keras-model/\" target=\"_blank\">Bayesian Optimization for Keras Model</a>"
   ]
  }
 ],
 "metadata": {
  "kernelspec": {
   "display_name": "Python 3",
   "language": "python",
   "name": "python3"
  },
  "language_info": {
   "codemirror_mode": {
    "name": "ipython",
    "version": 3
   },
   "file_extension": ".py",
   "mimetype": "text/x-python",
   "name": "python",
   "nbconvert_exporter": "python",
   "pygments_lexer": "ipython3",
   "version": "3.7.4"
  }
 },
 "nbformat": 4,
 "nbformat_minor": 2
}
